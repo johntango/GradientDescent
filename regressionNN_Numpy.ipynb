{
 "cells": [
  {
   "cell_type": "code",
   "execution_count": null,
   "metadata": {},
   "outputs": [],
   "source": [
    "# Regression Neural Network using Numpy Only"
   ]
  },
  {
   "cell_type": "code",
   "execution_count": 2,
   "metadata": {},
   "outputs": [],
   "source": [
    "import numpy as np\n",
    "import matplotlib.pyplot as plt\n",
    "\n",
    "# Step 1: Generate synthetic data\n",
    "np.random.seed(0)\n",
    "X = 2 * np.random.rand(100, 1)\n",
    "y = 4 + 3 * X + np.random.randn(100, 1)\n",
    "\n",
    "\n"
   ]
  },
  {
   "cell_type": "code",
   "execution_count": 3,
   "metadata": {},
   "outputs": [
    {
     "data": {
      "text/plain": [
       "[<matplotlib.lines.Line2D at 0x7f3f0d697850>]"
      ]
     },
     "execution_count": 3,
     "metadata": {},
     "output_type": "execute_result"
    },
    {
     "data": {
      "image/png": "[encoded data removed]",
      "text/plain": [
       "<Figure size 640x480 with 1 Axes>"
      ]
     },
     "metadata": {},
     "output_type": "display_data"
    }
   ],
   "source": [
    "# plot data\n",
    "plt.plot(X, y, \"b.\")"
   ]
  },
  {
   "cell_type": "code",
   "execution_count": 4,
   "metadata": {},
   "outputs": [],
   "source": [
    "# Step 2: Initialize parameters\n",
    "W = np.random.randn(1, 1)\n",
    "b = np.zeros(1)\n",
    "\n",
    "# Step 3: Settings for the learning algorithm\n",
    "learning_rate = 0.01\n",
    "n_iterations = 1000\n",
    "\n"
   ]
  },
  {
   "cell_type": "code",
   "execution_count": null,
   "metadata": {},
   "outputs": [],
   "source": [
    "# Step 4: Training process\n",
    "for i in range(n_iterations):\n",
    "    # Model prediction\n",
    "    y_pred = X.dot(W) + b\n",
    "    \n",
    "    # Loss calculation\n",
    "    loss = np.mean((y_pred - y) ** 2) / 2\n",
    "    \n",
    "    # Gradient calculation\n",
    "    W_grad = X.T.dot(y_pred - y) / len(X)\n",
    "    b_grad = np.sum(y_pred - y) / len(X)\n",
    "    \n",
    "    # Parameters update\n",
    "    W -= learning_rate * W_grad\n",
    "    b -= learning_rate * b_grad\n",
    "    \n",
    "    # Print loss every 100 iterations\n",
    "    if i % 100 == 0:\n",
    "        print(f\"Iteration {i}: Loss = {loss}\")\n",
    "\n"
   ]
  },
  {
   "cell_type": "code",
   "execution_count": null,
   "metadata": {},
   "outputs": [],
   "source": [
    "# Display the results\n",
    "plt.scatter(X, y, color='blue', label='Data points')\n",
    "plt.plot(X, X.dot(W) + b, color='red', label='Linear regression')\n",
    "plt.legend()\n",
    "plt.show()\n",
    "\n",
    "print(\"Model parameters:\")\n",
    "print(f\"Weights: {W.flatten()}\")\n",
    "print(f\"Bias: {b}\")"
   ]
  }
 ],
 "metadata": {
  "kernelspec": {
   "display_name": "Python 3",
   "language": "python",
   "name": "python3"
  },
  "language_info": {
   "codemirror_mode": {
    "name": "ipython",
    "version": 3
   },
   "file_extension": ".py",
   "mimetype": "text/x-python",
   "name": "python",
   "nbconvert_exporter": "python",
   "pygments_lexer": "ipython3",
   "version": "3.10.13"
  }
 },
 "nbformat": 4,
 "nbformat_minor": 2
}
