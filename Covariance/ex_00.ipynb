{
 "cells": [
  {
   "cell_type": "code",
   "execution_count": null,
   "metadata": {},
   "outputs": [],
   "source": [
    "# use 2 slicing operators to print out \"Hello o World\"\n",
    "\n",
    "str1 = \"Hello World\"\n",
    "print(str1[??], str1[??]"
   ]
  },
  {
   "cell_type": "code",
   "execution_count": null,
   "metadata": {},
   "outputs": [],
   "source": [
    "# what do the following print out - look them up on Google\n",
    "str=\"my name's captain kirk\";\n",
    "print(str.capitalize())\n",
    "print(str.title())\n",
    "print(str.split())\n",
    "print(str.replace(\"'\", \"\"))"
   ]
  },
  {
   "cell_type": "code",
   "execution_count": null,
   "metadata": {},
   "outputs": [],
   "source": [
    "# What will the value of x be - work it out by hand first\n",
    "x=0\n",
    "a=0\n",
    "b=-5\n",
    "if a > 0:\n",
    "    if b < 0:\n",
    "        x=x + 3\n",
    "elif a <= 0:\n",
    "        x=x + 1\n",
    "else:\n",
    "    x=x + 2\n",
    "# print(x)\n"
   ]
  },
  {
   "cell_type": "code",
   "execution_count": null,
   "metadata": {},
   "outputs": [],
   "source": [
    "# work out by hand what will be printed out\n",
    "numbers = [10, 20]\n",
    "items = [\"Chair\", \"Table\"]\n",
    "\n",
    "for x in numbers:\n",
    "  for y in items:\n",
    "    print(x, y)"
   ]
  },
  {
   "cell_type": "code",
   "execution_count": null,
   "metadata": {},
   "outputs": [],
   "source": [
    "# IN CLASS - output a dictionary of the form {'word': count,...}\n",
    "str = 'Lorem ipsum dolor sit amet, consectetur adipiscing elit, sed do eiusmod tempor incididunt ut labore et dolore magna aliqua. Ut enim ad minim veniam, quis nostrud exercitation ullamco laboris nisi ut aliquip ex ea commodo consequat. Duis aute irure dolor in reprehenderit in voluptate velit esse cillum dolore eu fugiat nulla pariatur. Excepteur sint occaecat cupidatat non proident, sunt in culpa qui officia deserunt mollit anim id est laborum.'\n",
    "words = str.split(\" \")\n"
   ]
  },
  {
   "cell_type": "code",
   "execution_count": null,
   "metadata": {},
   "outputs": [],
   "source": [
    "# Use a for loop to print out each item in this Dictionary\n",
    "d = {\"A\":\"Apple\",\"B\":\"Banana\",\"C\":\"Cantalope\"}"
   ]
  },
  {
   "cell_type": "code",
   "execution_count": null,
   "metadata": {},
   "outputs": [],
   "source": [
    "# use \"for k,v in ??\"\" to print out both the key and the value of each item\n",
    "for k,v in d ??  :\n",
    "    print(f\"key= {k}, value= {v}\")"
   ]
  },
  {
   "cell_type": "code",
   "execution_count": null,
   "metadata": {},
   "outputs": [],
   "source": [
    "# Print out Fred's scores for math and english\n",
    "myDict = { \n",
    "   \"class\":{ \n",
    "      \"student\":{ \n",
    "         \"name\":\"Fred\",\n",
    "         \"marks\":{ \n",
    "            \"math\":88,\n",
    "            \"english\":70\n",
    "         }\n",
    "      }\n",
    "   }\n",
    "}\n",
    "# Answer"
   ]
  },
  {
   "cell_type": "code",
   "execution_count": null,
   "metadata": {},
   "outputs": [],
   "source": [
    "# Print out Anne's age\n",
    "student = {1: {'name': 'Fred', 'age': '27', 'marks': 77},\n",
    "           2: {'name': 'Anne', 'age': '22', 'marks': 88}}\n",
    "# Answer \n",
    "print(f\"Anne's age is \")"
   ]
  },
  {
   "cell_type": "code",
   "execution_count": null,
   "metadata": {},
   "outputs": [],
   "source": [
    "# clear() a dictionary\n",
    "student = {1: {'name': 'Fred', 'age': '27', 'marks': 77},\n",
    "           2: {'name': 'Anne', 'age': '22', 'marks': 88}}\n",
    "del student[1]  # delete an item from a dictionary\n",
    "print(student)\n",
    "student.clear() # clear the dictionary\n",
    "print(student)"
   ]
  },
  {
   "cell_type": "code",
   "execution_count": null,
   "metadata": {},
   "outputs": [],
   "source": [
    "# list and dictionary comprehension\n",
    "db = {'students': [{'id': 1, 'name': 'Alice'}, \n",
    "              {'id': 2, 'name': 'Bob'}, \n",
    "              {'id': 3, 'name': 'Charlie'}], \n",
    " 'psets': [{'id': 1, 'points': 10}, \n",
    "           {'id': 2, 'points': 20}, \n",
    "           {'id': 3, 'points': 30}], \n",
    "}\n",
    "db"
   ]
  },
  {
   "cell_type": "markdown",
   "metadata": {},
   "source": [
    "# Transforming data - warm up on 2-D Vectors"
   ]
  },
  {
   "cell_type": "code",
   "execution_count": 4,
   "metadata": {},
   "outputs": [
    {
     "data": {
      "image/png": "[encoded data removed]",
      "text/plain": [
       "<Figure size 640x480 with 1 Axes>"
      ]
     },
     "metadata": {},
     "output_type": "display_data"
    }
   ],
   "source": [
    "import numpy as np\n",
    "import matplotlib.pyplot as plt\n",
    "import math\n",
    "\n",
    "# Define a square with its four corners\n",
    "square = np.array([[1, 1], [1, -1], [-1, -1], [-1, 1], [1, 1]])\n",
    "\n",
    "# Define a transformation matrix\n",
    "# This is an example matrix that scales by 2 in the x direction and rotates by 45 degrees\n",
    "PI = np.pi\n",
    "\n",
    "transformation_matrix = np.array([[1, math.cos(PI/4)], [-math.sin(PI/4), 1]])\n",
    "\n",
    "# Apply the transformation matrix to each point of the square\n",
    "#transformed_square = square @ transformation_matrix.T\n",
    "transformed_square = np.dot(square, transformation_matrix.T)\n",
    "\n",
    "# Plot the original square\n",
    "plt.plot(square[:, 0], square[:, 1], 'b-', label='Original Square')\n",
    "\n",
    "# Plot the transformed square\n",
    "plt.plot(transformed_square[:, 0], transformed_square[:, 1], 'r-', label='Transformed Square')\n",
    "\n",
    "# Set equal scaling by changing axis limits\n",
    "plt.axis('equal')\n",
    "\n",
    "# Add a legend\n",
    "plt.legend()\n",
    "\n",
    "# Show the plot\n",
    "plt.show()\n"
   ]
  }
 ],
 "metadata": {
  "kernelspec": {
   "display_name": "Python 3",
   "language": "python",
   "name": "python3"
  },
  "language_info": {
   "codemirror_mode": {
    "name": "ipython",
    "version": 3
   },
   "file_extension": ".py",
   "mimetype": "text/x-python",
   "name": "python",
   "nbconvert_exporter": "python",
   "pygments_lexer": "ipython3",
   "version": "3.12.1"
  },
  "orig_nbformat": 4,
  "vscode": {
   "interpreter": {
    "hash": "949777d72b0d2535278d3dc13498b2535136f6dfe0678499012e853ee9abcab1"
   }
  }
 },
 "nbformat": 4,
 "nbformat_minor": 2
}
